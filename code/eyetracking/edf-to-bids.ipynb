{
 "cells": [
  {
   "cell_type": "markdown",
   "id": "41c558e9",
   "metadata": {},
   "source": [
    "Let's start by importing the essential libraries for handling eye tracker data. The EyeTrackingRun class is a tool for managing and processing eye-tracking data, encompassing key elements like samples, events, messages, and metadata such as session details, task names, and participant information. It allows you to convert your eye tracker data into BIDS-compatible files, generate JSON, and visualize the data."
   ]
  },
  {
   "cell_type": "code",
   "execution_count": null,
   "id": "ec90c20d",
   "metadata": {},
   "outputs": [],
   "source": [
    "%matplotlib inline\n",
    "import pandas as pd\n",
    "from pathlib import Path\n",
    "from pyedfread import edf, edfread\n",
    "from eyetrackingrun import EyeTrackingRun"
   ]
  },
  {
   "cell_type": "markdown",
   "id": "c0c3f8fb",
   "metadata": {},
   "source": [
    "In the schedule.tsv file, we've listed the EDF files we created and their associated sessions. Now, let's check out what's in the file."
   ]
  },
  {
   "cell_type": "code",
   "execution_count": null,
   "id": "24d67d24",
   "metadata": {},
   "outputs": [],
   "source": [
    "edf_lookup = pd.read_csv(\"schedule.tsv\", sep='\\t', na_values=\"n/a\")\n",
    "edf_lookup"
   ]
  },
  {
   "cell_type": "markdown",
   "id": "bc75306e",
   "metadata": {},
   "source": [
    "As an illustrative example, we'll handle the data from session 4. Replace DATA_PATH with your data's path and BIDS_PATH with your BIDS-compatible folder path. The phase encoding direction value for this session can be extracted directly from the edflookup dataframe."
   ]
  },
  {
   "cell_type": "code",
   "execution_count": null,
   "id": "7de8286b",
   "metadata": {},
   "outputs": [],
   "source": [
    "DATA_PATH = Path(\"/home/esavary/Projects/ET-data/\")\n",
    "BIDS_PATH = Path(\"/home/esavary/Projects/HCPH-BIDS_ET/output_newcode/\")\n",
    "participant = \"001\"\n",
    "session = 4\n",
    "et_session = edf_lookup[edf_lookup.session == session]\n",
    "pe = et_session.PE.values[0]\n",
    "screen_resolution=(800,600)"
   ]
  },
  {
   "cell_type": "markdown",
   "id": "b01fcb08",
   "metadata": {},
   "source": [
    "# dwi"
   ]
  },
  {
   "cell_type": "markdown",
   "id": "112e51b5",
   "metadata": {},
   "source": [
    "Let's begin with the dwi data. Using the pyedfread library, we extract samples, revealing the participant's eye movements over time. Additionally, we capture event information for fixations and saccades, referred to as events, and messages containing metadata for each trial."
   ]
  },
  {
   "cell_type": "code",
   "execution_count": null,
   "id": "17bd5a93",
   "metadata": {},
   "outputs": [],
   "source": [
    "samples, events, messages = edf.pread(str(DATA_PATH / et_session.dwi_edf.values[0]), trial_marker=b\"\")"
   ]
  },
  {
   "cell_type": "markdown",
   "id": "c65e095e",
   "metadata": {},
   "source": [
    "Let's encapsulate the data, including session information, into an EyeTrackingRun object. The message_first_trigger corresponds to the message sent to the eye tracker during the task, synchronized with the initial trigger from the MRI. This synchronization ensures alignment between eye-tracking data and other modalities, and the message_first_trigger is defined in the psychopy tasks."
   ]
  },
  {
   "cell_type": "code",
   "execution_count": null,
   "id": "a3dac159",
   "metadata": {},
   "outputs": [],
   "source": [
    "DwiSession4 = EyeTrackingRun(\n",
    "    session=int(session),\n",
    "    task_name='dwi',\n",
    "    participant=int(participant),\n",
    "    samples=samples,\n",
    "    events=events,\n",
    "    messages=messages,\n",
    "    message_first_trigger='hello',\n",
    "    screen_resolution=screen_resolution,\n",
    "    pe=pe\n",
    ")"
   ]
  },
  {
   "cell_type": "markdown",
   "id": "39f1afc1",
   "metadata": {},
   "source": [
    "Now, as an illustration, let's plot the participant's pupil size during the dwi run. The gaps in the plot directly correlate to moments when the participant closed their eyes."
   ]
  },
  {
   "cell_type": "code",
   "execution_count": null,
   "id": "4c2bfcf4",
   "metadata": {},
   "outputs": [],
   "source": [
    "DwiSession4.plot_pupil_size()"
   ]
  },
  {
   "cell_type": "markdown",
   "id": "db418a7a",
   "metadata": {},
   "source": [
    "We can also visualize the duration of blinks (the gaps observed in the previous plot) during the entire run."
   ]
  },
  {
   "cell_type": "code",
   "execution_count": null,
   "id": "b7116bd4",
   "metadata": {},
   "outputs": [],
   "source": [
    "DwiSession4.plot_delta()"
   ]
  },
  {
   "cell_type": "markdown",
   "id": "39f3fc44",
   "metadata": {},
   "source": [
    "Now, let's examine the participant's gaze coordinates over time. The upper plot represents the x-coordinates, while the lower plot displays the y-coordinates."
   ]
  },
  {
   "cell_type": "code",
   "execution_count": null,
   "id": "65a6fea8",
   "metadata": {},
   "outputs": [],
   "source": [
    "DwiSession4.plot_coordinates_ts()"
   ]
  },
  {
   "cell_type": "markdown",
   "id": "6f4ce05b",
   "metadata": {},
   "source": [
    "Another way to visualize the gaze coordinates over time is through a heatmap, illustrating the distribution of the participant's gaze on the screen. Hotter colors indicate areas where the participant spent more time looking."
   ]
  },
  {
   "cell_type": "code",
   "execution_count": null,
   "id": "5e1a1fbe",
   "metadata": {},
   "outputs": [],
   "source": [
    "DwiSession4.plot_heatmap_coordinate_density()"
   ]
  },
  {
   "cell_type": "markdown",
   "id": "a26fb4bf",
   "metadata": {},
   "source": [
    "Now, let's save the samples into a compressed TSV file. To achieve this, you can utilize the provided function. The include_events argument adds three additional columns in the samples, indicating the time location of fixations, saccades, and blinks."
   ]
  },
  {
   "cell_type": "code",
   "execution_count": null,
   "id": "2e795337",
   "metadata": {},
   "outputs": [],
   "source": [
    "column_names = DwiSession4.save_and_process_samples(BIDS_PATH,include_events=True)"
   ]
  },
  {
   "cell_type": "markdown",
   "id": "8275108a",
   "metadata": {},
   "source": [
    "Now, we'll save the metadata as a JSON file within the BIDS dataset."
   ]
  },
  {
   "cell_type": "code",
   "execution_count": null,
   "id": "45bbb2aa",
   "metadata": {},
   "outputs": [],
   "source": [
    "DwiSession4.create_info_json(BIDS_PATH,\"info_ET.json\")"
   ]
  },
  {
   "cell_type": "markdown",
   "id": "d348794d",
   "metadata": {},
   "source": [
    "# qct"
   ]
  },
  {
   "cell_type": "markdown",
   "id": "c8bc34d0",
   "metadata": {},
   "source": [
    "Now, let's repeat the process for the quality control task. We'll encapsulate the session data and showcase the same visualizations."
   ]
  },
  {
   "cell_type": "code",
   "execution_count": null,
   "id": "928945ca",
   "metadata": {},
   "outputs": [],
   "source": [
    "samples, events, messages = edf.pread(str(DATA_PATH / et_session.qct_edf.values[0]), trial_marker=b\"\")\n",
    "QctSession4 = EyeTrackingRun(\n",
    "    session=int(session),\n",
    "    task_name='qct',\n",
    "    participant=int(participant),\n",
    "    samples=samples,\n",
    "    events=events,\n",
    "    messages=messages,\n",
    "    message_first_trigger='hello',\n",
    "    screen_resolution=screen_resolution,\n",
    "    pe=pe\n",
    ")"
   ]
  },
  {
   "cell_type": "code",
   "execution_count": null,
   "id": "85cf1800",
   "metadata": {},
   "outputs": [],
   "source": [
    "QctSession4.plot_pupil_size()"
   ]
  },
  {
   "cell_type": "code",
   "execution_count": null,
   "id": "e82c3935",
   "metadata": {},
   "outputs": [],
   "source": [
    "QctSession4.plot_delta()"
   ]
  },
  {
   "cell_type": "code",
   "execution_count": null,
   "id": "c97b0ba2",
   "metadata": {},
   "outputs": [],
   "source": [
    "QctSession4.plot_coordinates_ts()"
   ]
  },
  {
   "cell_type": "code",
   "execution_count": null,
   "id": "6aa32763",
   "metadata": {},
   "outputs": [],
   "source": [
    "QctSession4.plot_heatmap_coordinate_density()"
   ]
  },
  {
   "cell_type": "markdown",
   "id": "8e1b0893",
   "metadata": {},
   "source": [
    "And now, we save both the data and the corresponding JSON file."
   ]
  },
  {
   "cell_type": "code",
   "execution_count": null,
   "id": "47c2e557",
   "metadata": {},
   "outputs": [],
   "source": [
    "QctSession4.save_and_process_samples(BIDS_PATH,include_events=True)"
   ]
  },
  {
   "cell_type": "code",
   "execution_count": null,
   "id": "cea0a138",
   "metadata": {},
   "outputs": [],
   "source": [
    "QctSession4.create_info_json(BIDS_PATH,\"info_ET.json\")"
   ]
  },
  {
   "cell_type": "markdown",
   "id": "2f2f2f70",
   "metadata": {},
   "source": [
    "# rest"
   ]
  },
  {
   "cell_type": "markdown",
   "id": "76e1667e",
   "metadata": {},
   "source": [
    "Similarly, we'll visualize and process the data from the resting state."
   ]
  },
  {
   "cell_type": "code",
   "execution_count": null,
   "id": "d4414bcc",
   "metadata": {},
   "outputs": [],
   "source": [
    "samples, events, messages = edf.pread(str(DATA_PATH / et_session.rest_edf.values[0]), trial_marker=b\"\")\n",
    "RestSession4 = EyeTrackingRun(\n",
    "    session=int(session),\n",
    "    task_name='rest',\n",
    "    participant=int(participant),\n",
    "    samples=samples,\n",
    "    events=events,\n",
    "    messages=messages,\n",
    "    message_first_trigger='start movie',\n",
    "    screen_resolution=screen_resolution,\n",
    "    pe=pe\n",
    ")"
   ]
  },
  {
   "cell_type": "code",
   "execution_count": null,
   "id": "e0e3e952",
   "metadata": {},
   "outputs": [],
   "source": [
    "RestSession4.plot_pupil_size()"
   ]
  },
  {
   "cell_type": "code",
   "execution_count": null,
   "id": "83a4a642",
   "metadata": {},
   "outputs": [],
   "source": [
    "RestSession4.plot_delta()"
   ]
  },
  {
   "cell_type": "code",
   "execution_count": null,
   "id": "79401444",
   "metadata": {},
   "outputs": [],
   "source": [
    "RestSession4.plot_coordinates_ts()"
   ]
  },
  {
   "cell_type": "markdown",
   "id": "8df94a29",
   "metadata": {},
   "source": [
    "The upcoming plot might take some time due to the substantial data size in the resting state. For a quicker overview, you can run the next cell, which provides a 2D histogram instead of the density plot."
   ]
  },
  {
   "cell_type": "code",
   "execution_count": null,
   "id": "ae672005",
   "metadata": {},
   "outputs": [],
   "source": [
    "RestSession4.plot_heatmap_coordinate_density()"
   ]
  },
  {
   "cell_type": "code",
   "execution_count": null,
   "id": "1135c156",
   "metadata": {},
   "outputs": [],
   "source": [
    "RestSession4.plot_heatmap_coordinate_histo()"
   ]
  },
  {
   "cell_type": "markdown",
   "id": "168da1ce",
   "metadata": {},
   "source": [
    "Let's save both the data and metadata."
   ]
  },
  {
   "cell_type": "code",
   "execution_count": null,
   "id": "2e1a1ff5",
   "metadata": {},
   "outputs": [],
   "source": [
    "RestSession4.save_and_process_samples(BIDS_PATH,include_events=True)"
   ]
  },
  {
   "cell_type": "code",
   "execution_count": null,
   "id": "dd43e308",
   "metadata": {},
   "outputs": [],
   "source": [
    "RestSession4.create_info_json(BIDS_PATH,\"info_ET.json\")"
   ]
  },
  {
   "cell_type": "markdown",
   "id": "4a94165c",
   "metadata": {},
   "source": [
    "# bht"
   ]
  },
  {
   "cell_type": "markdown",
   "id": "e5034f48",
   "metadata": {},
   "source": [
    "Lastly, let's handle the data from the breath-holding task."
   ]
  },
  {
   "cell_type": "code",
   "execution_count": null,
   "id": "a9f8b2ea",
   "metadata": {},
   "outputs": [],
   "source": [
    "samples, events, messages = edf.pread(str(DATA_PATH / et_session.bht_edf.values[0]), trial_marker=b\"\")\n",
    "BhtSession4 = EyeTrackingRun(\n",
    "    session=int(session),\n",
    "    task_name='bht',\n",
    "    participant=int(participant),\n",
    "    samples=samples,\n",
    "    events=events,\n",
    "    messages=messages,\n",
    "    message_first_trigger='Hello',\n",
    "    screen_resolution=screen_resolution,\n",
    "    pe=pe\n",
    ")"
   ]
  },
  {
   "cell_type": "code",
   "execution_count": null,
   "id": "ef2055ef",
   "metadata": {},
   "outputs": [],
   "source": [
    "BhtSession4.plot_pupil_size()"
   ]
  },
  {
   "cell_type": "code",
   "execution_count": null,
   "id": "33f99b68",
   "metadata": {},
   "outputs": [],
   "source": [
    "BhtSession4.plot_delta()"
   ]
  },
  {
   "cell_type": "code",
   "execution_count": null,
   "id": "3e794323",
   "metadata": {},
   "outputs": [],
   "source": [
    "BhtSession4.plot_coordinates_ts()"
   ]
  },
  {
   "cell_type": "code",
   "execution_count": null,
   "id": "fdbae44f",
   "metadata": {},
   "outputs": [],
   "source": [
    "BhtSession4.plot_heatmap_coordinate_density()"
   ]
  },
  {
   "cell_type": "markdown",
   "id": "c7ce5e57",
   "metadata": {},
   "source": [
    "Let's save both the data and metadata."
   ]
  },
  {
   "cell_type": "code",
   "execution_count": null,
   "id": "f8e577b9",
   "metadata": {},
   "outputs": [],
   "source": [
    "BhtSession4.save_and_process_samples(BIDS_PATH,include_events=True)"
   ]
  },
  {
   "cell_type": "code",
   "execution_count": null,
   "id": "fdb5b443",
   "metadata": {},
   "outputs": [],
   "source": [
    "BhtSession4.create_info_json(BIDS_PATH,\"info_ET.json\")"
   ]
  },
  {
   "cell_type": "code",
   "execution_count": null,
   "id": "9c0e0102",
   "metadata": {},
   "outputs": [],
   "source": []
  }
 ],
 "metadata": {
  "kernelspec": {
   "display_name": "Python (pyyedf)",
   "language": "python",
   "name": "pyyedf"
  },
  "language_info": {
   "codemirror_mode": {
    "name": "ipython",
    "version": 3
   },
   "file_extension": ".py",
   "mimetype": "text/x-python",
   "name": "python",
   "nbconvert_exporter": "python",
   "pygments_lexer": "ipython3",
   "version": "3.6.15"
  }
 },
 "nbformat": 4,
 "nbformat_minor": 5
}
