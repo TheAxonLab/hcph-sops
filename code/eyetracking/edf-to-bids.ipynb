{
 "cells": [
  {
   "cell_type": "markdown",
   "id": "41c558e9",
   "metadata": {},
   "source": [
    "Let's start by importing the essential libraries for handling eye tracker data. The EyeTrackingRun class is a tool for managing and processing eye-tracking data, encompassing key elements like samples, events, messages, and metadata such as session details, task names, and participant information. It allows you to convert your eye tracker data into BIDS-compatible files, generate JSON, and visualize the data."
   ]
  },
  {
   "cell_type": "code",
   "execution_count": 1,
   "id": "ec90c20d",
   "metadata": {},
   "outputs": [],
   "source": [
    "%matplotlib inline\n",
    "import pandas as pd\n",
    "from pathlib import Path\n",
    "from pyedfread import edf, edfread\n",
    "from eyetrackingrun import EyeTrackingRun"
   ]
  },
  {
   "cell_type": "markdown",
   "id": "c0c3f8fb",
   "metadata": {},
   "source": [
    "In the schedule.tsv file, we've listed the EDF files we created and their associated sessions. Now, let's check out what's in the file."
   ]
  },
  {
   "cell_type": "code",
   "execution_count": 2,
   "id": "24d67d24",
   "metadata": {},
   "outputs": [
    {
     "data": {
      "text/html": [
       "<div>\n",
       "<style scoped>\n",
       "    .dataframe tbody tr th:only-of-type {\n",
       "        vertical-align: middle;\n",
       "    }\n",
       "\n",
       "    .dataframe tbody tr th {\n",
       "        vertical-align: top;\n",
       "    }\n",
       "\n",
       "    .dataframe thead th {\n",
       "        text-align: right;\n",
       "    }\n",
       "</style>\n",
       "<table border=\"1\" class=\"dataframe\">\n",
       "  <thead>\n",
       "    <tr style=\"text-align: right;\">\n",
       "      <th></th>\n",
       "      <th>session</th>\n",
       "      <th>day</th>\n",
       "      <th>PE</th>\n",
       "      <th>dwi_edf</th>\n",
       "      <th>qct_edf</th>\n",
       "      <th>rest_edf</th>\n",
       "      <th>bht_edf</th>\n",
       "    </tr>\n",
       "  </thead>\n",
       "  <tbody>\n",
       "    <tr>\n",
       "      <th>0</th>\n",
       "      <td>1</td>\n",
       "      <td>2023-10-20</td>\n",
       "      <td>LR</td>\n",
       "      <td>fixation_2023-10-20_18h46.06.106_4_session_1.EDF</td>\n",
       "      <td>qct_2023-10-20_19h40.38.964_2_session_1.EDF</td>\n",
       "      <td>rest_2023-10-20_19h48.22.344_0_session_1.EDF</td>\n",
       "      <td>bht_2023-10-20_20h10.50.517_0_session_1.EDF</td>\n",
       "    </tr>\n",
       "    <tr>\n",
       "      <th>1</th>\n",
       "      <td>3</td>\n",
       "      <td>2023-10-21</td>\n",
       "      <td>LR</td>\n",
       "      <td>fixation_2023-10-21_09h26.29.983_3_session_3.EDF</td>\n",
       "      <td>qct_2023-10-21_10h04.32.961_0_session_3.EDF</td>\n",
       "      <td>rest_2023-10-21_10h11.23.092_0_session_3.EDF</td>\n",
       "      <td>bht_2023-10-21_10h33.23.269_0_session_3.EDF</td>\n",
       "    </tr>\n",
       "    <tr>\n",
       "      <th>2</th>\n",
       "      <td>4</td>\n",
       "      <td>2023-10-21</td>\n",
       "      <td>RL</td>\n",
       "      <td>fixation_2023-10-21_11h28.03.360_2_session_4.EDF</td>\n",
       "      <td>qct_2023-10-21_12h14.11.346_3_session_4.EDF</td>\n",
       "      <td>rest_2023-10-21_12h20.30.939_0_session_4.EDF</td>\n",
       "      <td>bht_2023-10-21_12h43.24.654_0_session_4.EDF</td>\n",
       "    </tr>\n",
       "    <tr>\n",
       "      <th>3</th>\n",
       "      <td>5</td>\n",
       "      <td>2023-10-22</td>\n",
       "      <td>PA</td>\n",
       "      <td>fixation_2023-10-22_09h46.25.719_2_session_5.EDF</td>\n",
       "      <td>qct_2023-10-22_10h25.10.141_0_session_5.EDF</td>\n",
       "      <td>rest_2023-10-22_10h32.38.153_0_session_5.EDF</td>\n",
       "      <td>bht_2023-10-22_10h55.36.134_0_session_5.EDF</td>\n",
       "    </tr>\n",
       "    <tr>\n",
       "      <th>4</th>\n",
       "      <td>6</td>\n",
       "      <td>2023-10-22</td>\n",
       "      <td>PA</td>\n",
       "      <td>fixation_2023-10-22_11h32.03.586_0_session_6.EDF</td>\n",
       "      <td>qct_2023-10-22_12h10.47.134_0_session_6.EDF</td>\n",
       "      <td>rest_2023-10-22_12h16.56.202_0_session_6.EDF</td>\n",
       "      <td>bht_2023-10-22_12h38.49.185_0_session_6.EDF</td>\n",
       "    </tr>\n",
       "    <tr>\n",
       "      <th>5</th>\n",
       "      <td>7</td>\n",
       "      <td>2023-10-23</td>\n",
       "      <td>LR</td>\n",
       "      <td>fixation_2023-10-23_19h44.11.104_2_session_7.EDF</td>\n",
       "      <td>qct_2023-10-23_20h25.20.999_0_session_7.EDF</td>\n",
       "      <td>rest_2023-10-23_20h31.49.334_0_session_7.EDF</td>\n",
       "      <td>bht_2023-10-23_20h54.11.318_1_session_7.EDF</td>\n",
       "    </tr>\n",
       "    <tr>\n",
       "      <th>6</th>\n",
       "      <td>8</td>\n",
       "      <td>2023-10-23</td>\n",
       "      <td>RL</td>\n",
       "      <td>fixation_2023-10-23_21h30.29.785_0_session_8.EDF</td>\n",
       "      <td>qct_2023-10-23_22h08.36.963_0_session_8.EDF</td>\n",
       "      <td>rest_2023-10-23_22h15.00.201_0_session_8.EDF</td>\n",
       "      <td>bht_2023-10-23_22h36.54.314_0_session_8.EDF</td>\n",
       "    </tr>\n",
       "    <tr>\n",
       "      <th>7</th>\n",
       "      <td>9</td>\n",
       "      <td>2023-10-24</td>\n",
       "      <td>AP</td>\n",
       "      <td>fixation_2023-10-24_19h28.01.875_1_session_9.EDF</td>\n",
       "      <td>qct_2023-10-24_20h15.40.693_0_session_9.EDF</td>\n",
       "      <td>rest_2023-10-24_20h24.27.482_0_session_9.EDF</td>\n",
       "      <td>bht_2023-10-24_20h46.08.308_0_session_9.EDF</td>\n",
       "    </tr>\n",
       "    <tr>\n",
       "      <th>8</th>\n",
       "      <td>10</td>\n",
       "      <td>2023-10-24</td>\n",
       "      <td>RL</td>\n",
       "      <td>fixation_2023-10-24_21h26.14.900_1_session_10.EDF</td>\n",
       "      <td>qct_2023-10-24_22h10.40.236_0_session_10.EDF</td>\n",
       "      <td>rest_2023-10-24_22h18.14.132_0_session_10.EDF</td>\n",
       "      <td>bht_2023-10-24_22h41.05.920_0_session_10.EDF</td>\n",
       "    </tr>\n",
       "    <tr>\n",
       "      <th>9</th>\n",
       "      <td>11</td>\n",
       "      <td>2023-10-25</td>\n",
       "      <td>AP</td>\n",
       "      <td>fixation_2023-10-25_20h37.34.053_7_session_11.EDF</td>\n",
       "      <td>qct_2023-10-25_21h12.18.840_0_session_11.EDF</td>\n",
       "      <td>rest_2023-10-25_21h23.26.254_0_session_11.EDF</td>\n",
       "      <td>bht_2023-10-25_21h47.06.131_1_session_11.EDF</td>\n",
       "    </tr>\n",
       "    <tr>\n",
       "      <th>10</th>\n",
       "      <td>13</td>\n",
       "      <td>2023-10-26</td>\n",
       "      <td>PA</td>\n",
       "      <td>fixation_2023-10-26_19h27.13.413_3_session_13.EDF</td>\n",
       "      <td>qct_2023-10-26_20h05.24.294_0_session_13.EDF</td>\n",
       "      <td>rest_2023-10-26_20h13.47.119_1_session_13.EDF</td>\n",
       "      <td>bht_2023-10-26_20h36.26.995_1_session_13.EDF</td>\n",
       "    </tr>\n",
       "    <tr>\n",
       "      <th>11</th>\n",
       "      <td>14</td>\n",
       "      <td>2023-10-26</td>\n",
       "      <td>LR</td>\n",
       "      <td>NaN</td>\n",
       "      <td>NaN</td>\n",
       "      <td>NaN</td>\n",
       "      <td>NaN</td>\n",
       "    </tr>\n",
       "    <tr>\n",
       "      <th>12</th>\n",
       "      <td>15</td>\n",
       "      <td>2023-10-27</td>\n",
       "      <td>AP</td>\n",
       "      <td>fixation_2023-10-27_19h21.04.397_0_session_15.EDF</td>\n",
       "      <td>qct_2023-10-27_19h59.03.664_0_session_15.EDF</td>\n",
       "      <td>rest_2023-10-27_20h06.19.329_0_session_15.EDF</td>\n",
       "      <td>bht_2023-10-27_20h31.31.806_0_session_15.EDF</td>\n",
       "    </tr>\n",
       "    <tr>\n",
       "      <th>13</th>\n",
       "      <td>16</td>\n",
       "      <td>2023-10-27</td>\n",
       "      <td>RL</td>\n",
       "      <td>fixation_2023-10-27_21h14.58.939_0_session_16.EDF</td>\n",
       "      <td>qct_2023-10-27_21h50.56.832_0_session_16.EDF</td>\n",
       "      <td>rest_2023-10-27_21h59.57.982_0_session_16.EDF</td>\n",
       "      <td>bht_2023-10-27_22h22.00.459_0_session_16.EDF</td>\n",
       "    </tr>\n",
       "    <tr>\n",
       "      <th>14</th>\n",
       "      <td>17</td>\n",
       "      <td>2023-10-28</td>\n",
       "      <td>PA</td>\n",
       "      <td>fixation_2023-10-28_17h33.18.362_0_session_17.EDF</td>\n",
       "      <td>qct_2023-10-28_18h10.17.815_0_session_17.EDF</td>\n",
       "      <td>rest_2023-10-28_18h17.25.018_0_session_17.EDF</td>\n",
       "      <td>bht_2023-10-28_18h39.15.707_0_session_17.EDF</td>\n",
       "    </tr>\n",
       "    <tr>\n",
       "      <th>15</th>\n",
       "      <td>18</td>\n",
       "      <td>2023-10-28</td>\n",
       "      <td>LR</td>\n",
       "      <td>fixation_2023-10-28_19h28.44.805_1_session_18.EDF</td>\n",
       "      <td>qct_2023-10-28_20h04.55.538_0_session_18.EDF</td>\n",
       "      <td>rest_2023-10-28_20h14.36.133_0_session_18.EDF</td>\n",
       "      <td>bht_2023-10-28_20h36.56.464_0_session_18.EDF</td>\n",
       "    </tr>\n",
       "    <tr>\n",
       "      <th>16</th>\n",
       "      <td>19</td>\n",
       "      <td>2023-10-29</td>\n",
       "      <td>PA</td>\n",
       "      <td>fixation_2023-10-29_17h27.42.762_0_session_19.EDF</td>\n",
       "      <td>qct_2023-10-29_18h03.39.805_0_session_19.EDF</td>\n",
       "      <td>rest_2023-10-29_18h12.09.392_0_session_19.EDF</td>\n",
       "      <td>bht_2023-10-29_18h33.57.024_0_session_19.EDF</td>\n",
       "    </tr>\n",
       "    <tr>\n",
       "      <th>17</th>\n",
       "      <td>20</td>\n",
       "      <td>2023-10-29</td>\n",
       "      <td>RL</td>\n",
       "      <td>fixation_2023-10-29_19h19.52.151_1_session_20.EDF</td>\n",
       "      <td>qct_2023-10-29_19h59.33.715_0_session_20.EDF</td>\n",
       "      <td>rest_2023-10-29_20h05.09.929_0_session_20.EDF</td>\n",
       "      <td>bht_2023-10-29_20h27.21.398_0_session_20.EDF</td>\n",
       "    </tr>\n",
       "    <tr>\n",
       "      <th>18</th>\n",
       "      <td>21</td>\n",
       "      <td>2023-10-30</td>\n",
       "      <td>RL</td>\n",
       "      <td>fixation_2023-10-30_19h13.50.101_1_session_21.EDF</td>\n",
       "      <td>qct_2023-10-30_19h54.05.659_0_session_21.EDF</td>\n",
       "      <td>rest_2023-10-30_20h02.51.496_0_session_21.EDF</td>\n",
       "      <td>bht_2023-10-30_20h24.56.078_0_session_21.EDF</td>\n",
       "    </tr>\n",
       "    <tr>\n",
       "      <th>19</th>\n",
       "      <td>22</td>\n",
       "      <td>2023-10-30</td>\n",
       "      <td>AP</td>\n",
       "      <td>fixation_2023-10-30_21h04.29.483_1_session_22.EDF</td>\n",
       "      <td>qct_2023-10-30_21h42.46.455_0_session_22.EDF</td>\n",
       "      <td>rest_2023-10-30_21h51.11.079_0_session_22.EDF</td>\n",
       "      <td>bht_2023-10-30_22h13.00.516_0_session_22.EDF</td>\n",
       "    </tr>\n",
       "    <tr>\n",
       "      <th>20</th>\n",
       "      <td>23</td>\n",
       "      <td>2023-10-31</td>\n",
       "      <td>AP</td>\n",
       "      <td>fixation_2023-10-31_19h38.18.771_1_session_23.EDF</td>\n",
       "      <td>qct_2023-10-31_20h16.23.124_0_session_23.EDF</td>\n",
       "      <td>rest_2023-10-31_20h23.08.716_0_session_23.EDF</td>\n",
       "      <td>bht_2023-10-31_20h45.02.641_0_session_23.EDF</td>\n",
       "    </tr>\n",
       "    <tr>\n",
       "      <th>21</th>\n",
       "      <td>24</td>\n",
       "      <td>2023-10-31</td>\n",
       "      <td>AP</td>\n",
       "      <td>fixation_2023-10-31_21h38.40.916_1_session_24.EDF</td>\n",
       "      <td>qct_2023-10-31_22h29.32.491_0_session_24.EDF</td>\n",
       "      <td>rest_2023-10-31_22h36.04.198_0_session_24.EDF</td>\n",
       "      <td>bht_2023-10-31_22h58.13.607_0_session_24.EDF</td>\n",
       "    </tr>\n",
       "    <tr>\n",
       "      <th>22</th>\n",
       "      <td>25</td>\n",
       "      <td>2023-11-01</td>\n",
       "      <td>RL</td>\n",
       "      <td>fixation_2023-11-01_19h34.54.237_1_session_25.EDF</td>\n",
       "      <td>qct_2023-11-01_20h13.26.444_0_session_25.EDF</td>\n",
       "      <td>rest_2023-11-01_20h19.46.432_0_session_25.EDF</td>\n",
       "      <td>bht_2023-11-01_20h41.25.152_0_session_25.EDF</td>\n",
       "    </tr>\n",
       "    <tr>\n",
       "      <th>23</th>\n",
       "      <td>26</td>\n",
       "      <td>2023-11-01</td>\n",
       "      <td>PA</td>\n",
       "      <td>fixation_2023-11-01_21h19.06.608_1_session_26.EDF</td>\n",
       "      <td>qct_2023-11-01_21h55.19.742_0_session_26.EDF</td>\n",
       "      <td>rest_2023-11-01_22h03.59.490_0_session_26.EDF</td>\n",
       "      <td>bht_2023-11-01_22h26.03.086_0_session_26.EDF</td>\n",
       "    </tr>\n",
       "    <tr>\n",
       "      <th>24</th>\n",
       "      <td>27</td>\n",
       "      <td>2023-11-02</td>\n",
       "      <td>AP</td>\n",
       "      <td>fixation_2023-11-02_19h29.37.833_1_session_27.EDF</td>\n",
       "      <td>NaN</td>\n",
       "      <td>NaN</td>\n",
       "      <td>NaN</td>\n",
       "    </tr>\n",
       "    <tr>\n",
       "      <th>25</th>\n",
       "      <td>28</td>\n",
       "      <td>2023-11-02</td>\n",
       "      <td>RL</td>\n",
       "      <td>fixation_2023-11-02_21h17.30.822_1_session_28.EDF</td>\n",
       "      <td>qct_2023-11-02_21h55.55.757_0_session_28.EDF</td>\n",
       "      <td>rest_2023-11-02_22h03.31.967_0_session_28.EDF</td>\n",
       "      <td>bht_2023-11-02_22h25.06.651_0_session_28.EDF</td>\n",
       "    </tr>\n",
       "    <tr>\n",
       "      <th>26</th>\n",
       "      <td>29</td>\n",
       "      <td>2023-11-03</td>\n",
       "      <td>PA</td>\n",
       "      <td>fixation_2023-11-03_19h15.36.495_2_session_29.EDF</td>\n",
       "      <td>qct_2023-11-03_19h58.22.540_0_session_29.EDF</td>\n",
       "      <td>rest_2023-11-03_20h06.12.290_0_session_29.EDF</td>\n",
       "      <td>bht_2023-11-03_20h27.56.353_0_session_29.EDF</td>\n",
       "    </tr>\n",
       "    <tr>\n",
       "      <th>27</th>\n",
       "      <td>30</td>\n",
       "      <td>2023-11-03</td>\n",
       "      <td>AP</td>\n",
       "      <td>NaN</td>\n",
       "      <td>NaN</td>\n",
       "      <td>NaN</td>\n",
       "      <td>NaN</td>\n",
       "    </tr>\n",
       "    <tr>\n",
       "      <th>28</th>\n",
       "      <td>31</td>\n",
       "      <td>2023-11-04</td>\n",
       "      <td>PA</td>\n",
       "      <td>NaN</td>\n",
       "      <td>NaN</td>\n",
       "      <td>NaN</td>\n",
       "      <td>NaN</td>\n",
       "    </tr>\n",
       "    <tr>\n",
       "      <th>29</th>\n",
       "      <td>32</td>\n",
       "      <td>2023-11-04</td>\n",
       "      <td>AP</td>\n",
       "      <td>NaN</td>\n",
       "      <td>NaN</td>\n",
       "      <td>NaN</td>\n",
       "      <td>NaN</td>\n",
       "    </tr>\n",
       "    <tr>\n",
       "      <th>30</th>\n",
       "      <td>33</td>\n",
       "      <td>2023-11-05</td>\n",
       "      <td>LR</td>\n",
       "      <td>NaN</td>\n",
       "      <td>NaN</td>\n",
       "      <td>NaN</td>\n",
       "      <td>NaN</td>\n",
       "    </tr>\n",
       "    <tr>\n",
       "      <th>31</th>\n",
       "      <td>34</td>\n",
       "      <td>2023-11-05</td>\n",
       "      <td>LR</td>\n",
       "      <td>NaN</td>\n",
       "      <td>NaN</td>\n",
       "      <td>NaN</td>\n",
       "      <td>NaN</td>\n",
       "    </tr>\n",
       "    <tr>\n",
       "      <th>32</th>\n",
       "      <td>35</td>\n",
       "      <td>2023-11-06</td>\n",
       "      <td>LR</td>\n",
       "      <td>NaN</td>\n",
       "      <td>NaN</td>\n",
       "      <td>NaN</td>\n",
       "      <td>NaN</td>\n",
       "    </tr>\n",
       "    <tr>\n",
       "      <th>33</th>\n",
       "      <td>36</td>\n",
       "      <td>2023-11-06</td>\n",
       "      <td>RL</td>\n",
       "      <td>NaN</td>\n",
       "      <td>NaN</td>\n",
       "      <td>NaN</td>\n",
       "      <td>NaN</td>\n",
       "    </tr>\n",
       "    <tr>\n",
       "      <th>34</th>\n",
       "      <td>37</td>\n",
       "      <td>2023-11-09</td>\n",
       "      <td>LR</td>\n",
       "      <td>fixation_2023-11-09_18h40.15.892_1_session_37.EDF</td>\n",
       "      <td>qct_2023-11-09_19h21.30.139_0_session_37.EDF</td>\n",
       "      <td>rest_2023-11-09_19h30.51.192_0_session_37.EDF</td>\n",
       "      <td>bht_2023-11-09_19h52.33.082_0_session_37.EDF</td>\n",
       "    </tr>\n",
       "    <tr>\n",
       "      <th>35</th>\n",
       "      <td>38</td>\n",
       "      <td>2023-11-09</td>\n",
       "      <td>PA</td>\n",
       "      <td>fixation_2023-11-09_20h32.33.738_1_session_38.EDF</td>\n",
       "      <td>qct_2023-11-09_21h11.02.491_0_session_38.EDF</td>\n",
       "      <td>rest_2023-11-09_21h17.37.586_0_session_38.EDF</td>\n",
       "      <td>bht_2023-11-09_21h39.17.972_0_session_38.EDF</td>\n",
       "    </tr>\n",
       "  </tbody>\n",
       "</table>\n",
       "</div>"
      ],
      "text/plain": [
       "    session         day  PE  \\\n",
       "0         1  2023-10-20  LR   \n",
       "1         3  2023-10-21  LR   \n",
       "2         4  2023-10-21  RL   \n",
       "3         5  2023-10-22  PA   \n",
       "4         6  2023-10-22  PA   \n",
       "5         7  2023-10-23  LR   \n",
       "6         8  2023-10-23  RL   \n",
       "7         9  2023-10-24  AP   \n",
       "8        10  2023-10-24  RL   \n",
       "9        11  2023-10-25  AP   \n",
       "10       13  2023-10-26  PA   \n",
       "11       14  2023-10-26  LR   \n",
       "12       15  2023-10-27  AP   \n",
       "13       16  2023-10-27  RL   \n",
       "14       17  2023-10-28  PA   \n",
       "15       18  2023-10-28  LR   \n",
       "16       19  2023-10-29  PA   \n",
       "17       20  2023-10-29  RL   \n",
       "18       21  2023-10-30  RL   \n",
       "19       22  2023-10-30  AP   \n",
       "20       23  2023-10-31  AP   \n",
       "21       24  2023-10-31  AP   \n",
       "22       25  2023-11-01  RL   \n",
       "23       26  2023-11-01  PA   \n",
       "24       27  2023-11-02  AP   \n",
       "25       28  2023-11-02  RL   \n",
       "26       29  2023-11-03  PA   \n",
       "27       30  2023-11-03  AP   \n",
       "28       31  2023-11-04  PA   \n",
       "29       32  2023-11-04  AP   \n",
       "30       33  2023-11-05  LR   \n",
       "31       34  2023-11-05  LR   \n",
       "32       35  2023-11-06  LR   \n",
       "33       36  2023-11-06  RL   \n",
       "34       37  2023-11-09  LR   \n",
       "35       38  2023-11-09  PA   \n",
       "\n",
       "                                              dwi_edf  \\\n",
       "0    fixation_2023-10-20_18h46.06.106_4_session_1.EDF   \n",
       "1    fixation_2023-10-21_09h26.29.983_3_session_3.EDF   \n",
       "2    fixation_2023-10-21_11h28.03.360_2_session_4.EDF   \n",
       "3    fixation_2023-10-22_09h46.25.719_2_session_5.EDF   \n",
       "4    fixation_2023-10-22_11h32.03.586_0_session_6.EDF   \n",
       "5    fixation_2023-10-23_19h44.11.104_2_session_7.EDF   \n",
       "6    fixation_2023-10-23_21h30.29.785_0_session_8.EDF   \n",
       "7    fixation_2023-10-24_19h28.01.875_1_session_9.EDF   \n",
       "8   fixation_2023-10-24_21h26.14.900_1_session_10.EDF   \n",
       "9   fixation_2023-10-25_20h37.34.053_7_session_11.EDF   \n",
       "10  fixation_2023-10-26_19h27.13.413_3_session_13.EDF   \n",
       "11                                                NaN   \n",
       "12  fixation_2023-10-27_19h21.04.397_0_session_15.EDF   \n",
       "13  fixation_2023-10-27_21h14.58.939_0_session_16.EDF   \n",
       "14  fixation_2023-10-28_17h33.18.362_0_session_17.EDF   \n",
       "15  fixation_2023-10-28_19h28.44.805_1_session_18.EDF   \n",
       "16  fixation_2023-10-29_17h27.42.762_0_session_19.EDF   \n",
       "17  fixation_2023-10-29_19h19.52.151_1_session_20.EDF   \n",
       "18  fixation_2023-10-30_19h13.50.101_1_session_21.EDF   \n",
       "19  fixation_2023-10-30_21h04.29.483_1_session_22.EDF   \n",
       "20  fixation_2023-10-31_19h38.18.771_1_session_23.EDF   \n",
       "21  fixation_2023-10-31_21h38.40.916_1_session_24.EDF   \n",
       "22  fixation_2023-11-01_19h34.54.237_1_session_25.EDF   \n",
       "23  fixation_2023-11-01_21h19.06.608_1_session_26.EDF   \n",
       "24  fixation_2023-11-02_19h29.37.833_1_session_27.EDF   \n",
       "25  fixation_2023-11-02_21h17.30.822_1_session_28.EDF   \n",
       "26  fixation_2023-11-03_19h15.36.495_2_session_29.EDF   \n",
       "27                                                NaN   \n",
       "28                                                NaN   \n",
       "29                                                NaN   \n",
       "30                                                NaN   \n",
       "31                                                NaN   \n",
       "32                                                NaN   \n",
       "33                                                NaN   \n",
       "34  fixation_2023-11-09_18h40.15.892_1_session_37.EDF   \n",
       "35  fixation_2023-11-09_20h32.33.738_1_session_38.EDF   \n",
       "\n",
       "                                         qct_edf  \\\n",
       "0    qct_2023-10-20_19h40.38.964_2_session_1.EDF   \n",
       "1    qct_2023-10-21_10h04.32.961_0_session_3.EDF   \n",
       "2    qct_2023-10-21_12h14.11.346_3_session_4.EDF   \n",
       "3    qct_2023-10-22_10h25.10.141_0_session_5.EDF   \n",
       "4    qct_2023-10-22_12h10.47.134_0_session_6.EDF   \n",
       "5    qct_2023-10-23_20h25.20.999_0_session_7.EDF   \n",
       "6    qct_2023-10-23_22h08.36.963_0_session_8.EDF   \n",
       "7    qct_2023-10-24_20h15.40.693_0_session_9.EDF   \n",
       "8   qct_2023-10-24_22h10.40.236_0_session_10.EDF   \n",
       "9   qct_2023-10-25_21h12.18.840_0_session_11.EDF   \n",
       "10  qct_2023-10-26_20h05.24.294_0_session_13.EDF   \n",
       "11                                           NaN   \n",
       "12  qct_2023-10-27_19h59.03.664_0_session_15.EDF   \n",
       "13  qct_2023-10-27_21h50.56.832_0_session_16.EDF   \n",
       "14  qct_2023-10-28_18h10.17.815_0_session_17.EDF   \n",
       "15  qct_2023-10-28_20h04.55.538_0_session_18.EDF   \n",
       "16  qct_2023-10-29_18h03.39.805_0_session_19.EDF   \n",
       "17  qct_2023-10-29_19h59.33.715_0_session_20.EDF   \n",
       "18  qct_2023-10-30_19h54.05.659_0_session_21.EDF   \n",
       "19  qct_2023-10-30_21h42.46.455_0_session_22.EDF   \n",
       "20  qct_2023-10-31_20h16.23.124_0_session_23.EDF   \n",
       "21  qct_2023-10-31_22h29.32.491_0_session_24.EDF   \n",
       "22  qct_2023-11-01_20h13.26.444_0_session_25.EDF   \n",
       "23  qct_2023-11-01_21h55.19.742_0_session_26.EDF   \n",
       "24                                           NaN   \n",
       "25  qct_2023-11-02_21h55.55.757_0_session_28.EDF   \n",
       "26  qct_2023-11-03_19h58.22.540_0_session_29.EDF   \n",
       "27                                           NaN   \n",
       "28                                           NaN   \n",
       "29                                           NaN   \n",
       "30                                           NaN   \n",
       "31                                           NaN   \n",
       "32                                           NaN   \n",
       "33                                           NaN   \n",
       "34  qct_2023-11-09_19h21.30.139_0_session_37.EDF   \n",
       "35  qct_2023-11-09_21h11.02.491_0_session_38.EDF   \n",
       "\n",
       "                                         rest_edf  \\\n",
       "0    rest_2023-10-20_19h48.22.344_0_session_1.EDF   \n",
       "1    rest_2023-10-21_10h11.23.092_0_session_3.EDF   \n",
       "2    rest_2023-10-21_12h20.30.939_0_session_4.EDF   \n",
       "3    rest_2023-10-22_10h32.38.153_0_session_5.EDF   \n",
       "4    rest_2023-10-22_12h16.56.202_0_session_6.EDF   \n",
       "5    rest_2023-10-23_20h31.49.334_0_session_7.EDF   \n",
       "6    rest_2023-10-23_22h15.00.201_0_session_8.EDF   \n",
       "7    rest_2023-10-24_20h24.27.482_0_session_9.EDF   \n",
       "8   rest_2023-10-24_22h18.14.132_0_session_10.EDF   \n",
       "9   rest_2023-10-25_21h23.26.254_0_session_11.EDF   \n",
       "10  rest_2023-10-26_20h13.47.119_1_session_13.EDF   \n",
       "11                                            NaN   \n",
       "12  rest_2023-10-27_20h06.19.329_0_session_15.EDF   \n",
       "13  rest_2023-10-27_21h59.57.982_0_session_16.EDF   \n",
       "14  rest_2023-10-28_18h17.25.018_0_session_17.EDF   \n",
       "15  rest_2023-10-28_20h14.36.133_0_session_18.EDF   \n",
       "16  rest_2023-10-29_18h12.09.392_0_session_19.EDF   \n",
       "17  rest_2023-10-29_20h05.09.929_0_session_20.EDF   \n",
       "18  rest_2023-10-30_20h02.51.496_0_session_21.EDF   \n",
       "19  rest_2023-10-30_21h51.11.079_0_session_22.EDF   \n",
       "20  rest_2023-10-31_20h23.08.716_0_session_23.EDF   \n",
       "21  rest_2023-10-31_22h36.04.198_0_session_24.EDF   \n",
       "22  rest_2023-11-01_20h19.46.432_0_session_25.EDF   \n",
       "23  rest_2023-11-01_22h03.59.490_0_session_26.EDF   \n",
       "24                                            NaN   \n",
       "25  rest_2023-11-02_22h03.31.967_0_session_28.EDF   \n",
       "26  rest_2023-11-03_20h06.12.290_0_session_29.EDF   \n",
       "27                                            NaN   \n",
       "28                                            NaN   \n",
       "29                                            NaN   \n",
       "30                                            NaN   \n",
       "31                                            NaN   \n",
       "32                                            NaN   \n",
       "33                                            NaN   \n",
       "34  rest_2023-11-09_19h30.51.192_0_session_37.EDF   \n",
       "35  rest_2023-11-09_21h17.37.586_0_session_38.EDF   \n",
       "\n",
       "                                         bht_edf  \n",
       "0    bht_2023-10-20_20h10.50.517_0_session_1.EDF  \n",
       "1    bht_2023-10-21_10h33.23.269_0_session_3.EDF  \n",
       "2    bht_2023-10-21_12h43.24.654_0_session_4.EDF  \n",
       "3    bht_2023-10-22_10h55.36.134_0_session_5.EDF  \n",
       "4    bht_2023-10-22_12h38.49.185_0_session_6.EDF  \n",
       "5    bht_2023-10-23_20h54.11.318_1_session_7.EDF  \n",
       "6    bht_2023-10-23_22h36.54.314_0_session_8.EDF  \n",
       "7    bht_2023-10-24_20h46.08.308_0_session_9.EDF  \n",
       "8   bht_2023-10-24_22h41.05.920_0_session_10.EDF  \n",
       "9   bht_2023-10-25_21h47.06.131_1_session_11.EDF  \n",
       "10  bht_2023-10-26_20h36.26.995_1_session_13.EDF  \n",
       "11                                           NaN  \n",
       "12  bht_2023-10-27_20h31.31.806_0_session_15.EDF  \n",
       "13  bht_2023-10-27_22h22.00.459_0_session_16.EDF  \n",
       "14  bht_2023-10-28_18h39.15.707_0_session_17.EDF  \n",
       "15  bht_2023-10-28_20h36.56.464_0_session_18.EDF  \n",
       "16  bht_2023-10-29_18h33.57.024_0_session_19.EDF  \n",
       "17  bht_2023-10-29_20h27.21.398_0_session_20.EDF  \n",
       "18  bht_2023-10-30_20h24.56.078_0_session_21.EDF  \n",
       "19  bht_2023-10-30_22h13.00.516_0_session_22.EDF  \n",
       "20  bht_2023-10-31_20h45.02.641_0_session_23.EDF  \n",
       "21  bht_2023-10-31_22h58.13.607_0_session_24.EDF  \n",
       "22  bht_2023-11-01_20h41.25.152_0_session_25.EDF  \n",
       "23  bht_2023-11-01_22h26.03.086_0_session_26.EDF  \n",
       "24                                           NaN  \n",
       "25  bht_2023-11-02_22h25.06.651_0_session_28.EDF  \n",
       "26  bht_2023-11-03_20h27.56.353_0_session_29.EDF  \n",
       "27                                           NaN  \n",
       "28                                           NaN  \n",
       "29                                           NaN  \n",
       "30                                           NaN  \n",
       "31                                           NaN  \n",
       "32                                           NaN  \n",
       "33                                           NaN  \n",
       "34  bht_2023-11-09_19h52.33.082_0_session_37.EDF  \n",
       "35  bht_2023-11-09_21h39.17.972_0_session_38.EDF  "
      ]
     },
     "execution_count": 2,
     "metadata": {},
     "output_type": "execute_result"
    }
   ],
   "source": [
    "edf_lookup = pd.read_csv(\"schedule.tsv\", sep='\\t', na_values=\"n/a\")\n",
    "edf_lookup"
   ]
  },
  {
   "cell_type": "markdown",
   "id": "bc75306e",
   "metadata": {},
   "source": [
    "As an illustrative example, we'll handle the data from session 4. Replace DATA_PATH with your data's path and BIDS_PATH with your BIDS-compatible folder path. The phase encoding direction value for this session can be extracted directly from the edflookup dataframe."
   ]
  },
  {
   "cell_type": "code",
   "execution_count": 3,
   "id": "7de8286b",
   "metadata": {},
   "outputs": [],
   "source": [
    "DATA_PATH = Path(\"/home/esavary/Projects/ET-data/\")\n",
    "BIDS_PATH = Path(\"/home/esavary/Projects/HCPH-BIDS_ET/output_newcode/\")\n",
    "participant = \"001\"\n",
    "session = 4\n",
    "et_session = edf_lookup[edf_lookup.session == session]\n",
    "pe = et_session.PE.values[0]\n",
    "screen_resolution=(800,600)"
   ]
  },
  {
   "cell_type": "markdown",
   "id": "b01fcb08",
   "metadata": {},
   "source": [
    "# dwi"
   ]
  },
  {
   "cell_type": "markdown",
   "id": "112e51b5",
   "metadata": {},
   "source": [
    "Let's begin with the dwi data. Using the pyedfread library, we extract samples, revealing the participant's eye movements over time. Additionally, we capture event information for fixations and saccades, referred to as events, and messages containing metadata for each trial."
   ]
  },
  {
   "cell_type": "code",
   "execution_count": 4,
   "id": "17bd5a93",
   "metadata": {},
   "outputs": [],
   "source": [
    "samples, events, messages = edf.pread(str(DATA_PATH / et_session.dwi_edf.values[0]), trial_marker=b\"\")"
   ]
  },
  {
   "cell_type": "markdown",
   "id": "c65e095e",
   "metadata": {},
   "source": [
    "Let's encapsulate the data, including session information, into an EyeTrackingRun object. The message_first_trigger corresponds to the message sent to the eye tracker during the task, synchronized with the initial trigger from the MRI. This synchronization ensures alignment between eye-tracking data and other modalities, and the message_first_trigger is defined in the psychopy tasks."
   ]
  },
  {
   "cell_type": "code",
   "execution_count": 5,
   "id": "a3dac159",
   "metadata": {},
   "outputs": [],
   "source": [
    "DwiSession4 = EyeTrackingRun(\n",
    "    session=int(session),\n",
    "    task_name='dwi',\n",
    "    participant=int(participant),\n",
    "    samples=samples,\n",
    "    events=events,\n",
    "    messages=messages,\n",
    "    message_first_trigger='hello',\n",
    "    screen_resolution=screen_resolution\n",
    ")"
   ]
  },
  {
   "cell_type": "markdown",
   "id": "39f1afc1",
   "metadata": {},
   "source": [
    "Now, as an illustration, let's plot the participant's pupil size during the dwi run. The gaps in the plot directly correlate to moments when the participant closed their eyes."
   ]
  },
  {
   "cell_type": "code",
   "execution_count": 6,
   "id": "4c2bfcf4",
   "metadata": {},
   "outputs": [
    {
     "data": {
      "image/png": "[encoded data removed]",
      "text/plain": [
       "<Figure size 432x288 with 1 Axes>"
      ]
     },
     "metadata": {
      "needs_background": "light"
     },
     "output_type": "display_data"
    }
   ],
   "source": [
    "DwiSession4.plot_pupil_size()"
   ]
  },
  {
   "cell_type": "markdown",
   "id": "db418a7a",
   "metadata": {},
   "source": [
    "We can also visualize the duration of blinks (the gaps observed in the previous plot) during the entire run."
   ]
  },
  {
   "cell_type": "code",
   "execution_count": 7,
   "id": "b7116bd4",
   "metadata": {},
   "outputs": [
    {
     "name": "stderr",
     "output_type": "stream",
     "text": [
      "/home/esavary/Projects/hcph-sops/code/eyetracking/eyetrackingrun.py:604: SettingWithCopyWarning: \n",
      "A value is trying to be set on a copy of a slice from a DataFrame.\n",
      "Try using .loc[row_indexer,col_indexer] = value instead\n",
      "\n",
      "See the caveats in the documentation: https://pandas.pydata.org/pandas-docs/stable/user_guide/indexing.html#returning-a-view-versus-a-copy\n",
      "  blinks[\"duration\"] = blinks[\"end\"] - blinks[\"start\"]\n"
     ]
    },
    {
     "data": {
      "image/png": "[encoded data removed]",
      "text/plain": [
       "<Figure size 720x432 with 1 Axes>"
      ]
     },
     "metadata": {
      "needs_background": "light"
     },
     "output_type": "display_data"
    }
   ],
   "source": [
    "DwiSession4.plot_delta()"
   ]
  },
  {
   "cell_type": "markdown",
   "id": "39f3fc44",
   "metadata": {},
   "source": [
    "Now, let's examine the participant's gaze coordinates over time. The upper plot represents the x-coordinates, while the lower plot displays the y-coordinates."
   ]
  },
  {
   "cell_type": "code",
   "execution_count": 8,
   "id": "65a6fea8",
   "metadata": {},
   "outputs": [
    {
     "data": {
      "image/png": "[encoded data removed]",
      "text/plain": [
       "<Figure size 576x432 with 2 Axes>"
      ]
     },
     "metadata": {
      "needs_background": "light"
     },
     "output_type": "display_data"
    }
   ],
   "source": [
    "DwiSession4.plot_coordinates_ts()"
   ]
  },
  {
   "cell_type": "markdown",
   "id": "6f4ce05b",
   "metadata": {},
   "source": [
    "Another way to visualize the gaze coordinates over time is through a heatmap, illustrating the distribution of the participant's gaze on the screen. Hotter colors indicate areas where the participant spent more time looking."
   ]
  },
  {
   "cell_type": "code",
   "execution_count": null,
   "id": "5e1a1fbe",
   "metadata": {},
   "outputs": [],
   "source": [
    "DwiSession4.plot_heatmap_coordinate_density()"
   ]
  },
  {
   "cell_type": "markdown",
   "id": "a26fb4bf",
   "metadata": {},
   "source": [
    "Now, let's save the samples into a compressed TSV file. To achieve this, you can utilize the provided function. The include_events argument adds three additional columns in the samples, indicating the time location of fixations, saccades, and blinks."
   ]
  },
  {
   "cell_type": "code",
   "execution_count": 9,
   "id": "2e795337",
   "metadata": {},
   "outputs": [
    {
     "name": "stderr",
     "output_type": "stream",
     "text": [
      "/home/esavary/Projects/hcph-sops/code/eyetracking/eyetrackingrun.py:299: SettingWithCopyWarning: \n",
      "A value is trying to be set on a copy of a slice from a DataFrame\n",
      "\n",
      "See the caveats in the documentation: https://pandas.pydata.org/pandas-docs/stable/user_guide/indexing.html#returning-a-view-versus-a-copy\n",
      "  self.samples[\"pa_right\"][self.samples[\"pa_right\"] < 1] = \"n/a\"\n",
      "/home/esavary/Projects/hcph-sops/code/eyetracking/eyetrackingrun.py:302: SettingWithCopyWarning: \n",
      "A value is trying to be set on a copy of a slice from a DataFrame\n",
      "\n",
      "See the caveats in the documentation: https://pandas.pydata.org/pandas-docs/stable/user_guide/indexing.html#returning-a-view-versus-a-copy\n",
      "  ] = \"n/a\"\n",
      "/home/esavary/Projects/hcph-sops/code/eyetracking/eyetrackingrun.py:305: SettingWithCopyWarning: \n",
      "A value is trying to be set on a copy of a slice from a DataFrame\n",
      "\n",
      "See the caveats in the documentation: https://pandas.pydata.org/pandas-docs/stable/user_guide/indexing.html#returning-a-view-versus-a-copy\n",
      "  ] = \"n/a\"\n"
     ]
    }
   ],
   "source": [
    "column_names = DwiSession4.save_and_process_samples(BIDS_PATH,include_events=True)"
   ]
  },
  {
   "cell_type": "markdown",
   "id": "8275108a",
   "metadata": {},
   "source": [
    "Now, we'll save the metadata as a JSON file within the BIDS dataset."
   ]
  },
  {
   "cell_type": "code",
   "execution_count": 10,
   "id": "45bbb2aa",
   "metadata": {},
   "outputs": [
    {
     "name": "stdout",
     "output_type": "stream",
     "text": [
      "Calibration Count: 1\n",
      "Average Calibration Error: 0.49\n",
      "Maximum Calibration Error: 0.92\n",
      "Recorded Eye: right\n",
      "Eye Tracking Method: CR\n",
      "Sampling Frequency: 1000\n",
      "THRESHOLDS R 68 179 threshold\n",
      "Pupil Threshold: 68\n",
      "CR Threshold: 179\n",
      "Pupil Fitting Method: ellipse\n"
     ]
    },
    {
     "data": {
      "text/plain": [
       "'/home/esavary/Projects/HCPH-BIDS_ET/output_newcode/sub-001/ses-004/dwi/sub-01_ses-004_acq-highres_dir-_eyetrack.json'"
      ]
     },
     "execution_count": 10,
     "metadata": {},
     "output_type": "execute_result"
    }
   ],
   "source": [
    "DwiSession4.create_info_json(BIDS_PATH,\"info_ET.json\")"
   ]
  },
  {
   "cell_type": "markdown",
   "id": "d348794d",
   "metadata": {},
   "source": [
    "# qct"
   ]
  },
  {
   "cell_type": "markdown",
   "id": "c8bc34d0",
   "metadata": {},
   "source": [
    "Now, let's repeat the process for the quality control task. We'll encapsulate the session data and showcase the same visualizations."
   ]
  },
  {
   "cell_type": "code",
   "execution_count": null,
   "id": "928945ca",
   "metadata": {},
   "outputs": [],
   "source": [
    "samples, events, messages = edf.pread(str(DATA_PATH / et_session.qct_edf.values[0]), trial_marker=b\"\")\n",
    "QctSession4 = EyeTrackingRun(\n",
    "    session=int(session),\n",
    "    task_name='qct',\n",
    "    participant=int(participant),\n",
    "    samples=samples,\n",
    "    events=events,\n",
    "    messages=messages,\n",
    "    message_first_trigger='hello',\n",
    "    screen_resolution=screen_resolution\n",
    ")"
   ]
  },
  {
   "cell_type": "code",
   "execution_count": null,
   "id": "85cf1800",
   "metadata": {},
   "outputs": [],
   "source": [
    "QctSession4.plot_pupil_size()"
   ]
  },
  {
   "cell_type": "code",
   "execution_count": null,
   "id": "e82c3935",
   "metadata": {},
   "outputs": [],
   "source": [
    "QctSession4.plot_delta()"
   ]
  },
  {
   "cell_type": "code",
   "execution_count": null,
   "id": "c97b0ba2",
   "metadata": {},
   "outputs": [],
   "source": [
    "QctSession4.plot_coordinates_ts()"
   ]
  },
  {
   "cell_type": "code",
   "execution_count": null,
   "id": "6aa32763",
   "metadata": {},
   "outputs": [],
   "source": [
    "QctSession4.plot_heatmap_coordinate_density()"
   ]
  },
  {
   "cell_type": "markdown",
   "id": "8e1b0893",
   "metadata": {},
   "source": [
    "And now, we save both the data and the corresponding JSON file."
   ]
  },
  {
   "cell_type": "code",
   "execution_count": null,
   "id": "47c2e557",
   "metadata": {},
   "outputs": [],
   "source": [
    "QctSession4.save_and_process_samples(BIDS_PATH,include_events=True)"
   ]
  },
  {
   "cell_type": "code",
   "execution_count": null,
   "id": "cea0a138",
   "metadata": {},
   "outputs": [],
   "source": [
    "QctSession4.create_info_json(BIDS_PATH,\"info_ET.json\")"
   ]
  },
  {
   "cell_type": "markdown",
   "id": "2f2f2f70",
   "metadata": {},
   "source": [
    "# rest"
   ]
  },
  {
   "cell_type": "markdown",
   "id": "76e1667e",
   "metadata": {},
   "source": [
    "Similarly, we'll visualize and process the data from the resting state."
   ]
  },
  {
   "cell_type": "code",
   "execution_count": null,
   "id": "d4414bcc",
   "metadata": {},
   "outputs": [],
   "source": [
    "samples, events, messages = edf.pread(str(DATA_PATH / et_session.rest_edf.values[0]), trial_marker=b\"\")\n",
    "RestSession4 = EyeTrackingRun(\n",
    "    session=int(session),\n",
    "    task_name='rest',\n",
    "    participant=int(participant),\n",
    "    samples=samples,\n",
    "    events=events,\n",
    "    messages=messages,\n",
    "    message_first_trigger='start movie',\n",
    "    screen_resolution=screen_resolution\n",
    ")"
   ]
  },
  {
   "cell_type": "code",
   "execution_count": null,
   "id": "e0e3e952",
   "metadata": {},
   "outputs": [],
   "source": [
    "RestSession4.plot_pupil_size()"
   ]
  },
  {
   "cell_type": "code",
   "execution_count": null,
   "id": "83a4a642",
   "metadata": {},
   "outputs": [],
   "source": [
    "RestSession4.plot_delta()"
   ]
  },
  {
   "cell_type": "code",
   "execution_count": null,
   "id": "79401444",
   "metadata": {},
   "outputs": [],
   "source": [
    "RestSession4.plot_coordinates_ts()"
   ]
  },
  {
   "cell_type": "markdown",
   "id": "8df94a29",
   "metadata": {},
   "source": [
    "The upcoming plot might take some time due to the substantial data size in the resting state. For a quicker overview, you can run the next cell, which provides a 2D histogram instead of the density plot."
   ]
  },
  {
   "cell_type": "code",
   "execution_count": null,
   "id": "ae672005",
   "metadata": {},
   "outputs": [],
   "source": [
    "RestSession4.plot_heatmap_coordinate_density()"
   ]
  },
  {
   "cell_type": "code",
   "execution_count": null,
   "id": "1135c156",
   "metadata": {},
   "outputs": [],
   "source": [
    "RestSession4.plot_heatmap_coordinate_histo()"
   ]
  },
  {
   "cell_type": "markdown",
   "id": "168da1ce",
   "metadata": {},
   "source": [
    "Let's save both the data and metadata."
   ]
  },
  {
   "cell_type": "code",
   "execution_count": null,
   "id": "2e1a1ff5",
   "metadata": {},
   "outputs": [],
   "source": [
    "RestSession4.save_and_process_samples(BIDS_PATH,include_events=True)"
   ]
  },
  {
   "cell_type": "code",
   "execution_count": null,
   "id": "dd43e308",
   "metadata": {},
   "outputs": [],
   "source": [
    "RestSession4.create_info_json(BIDS_PATH,\"info_ET.json\")"
   ]
  },
  {
   "cell_type": "markdown",
   "id": "4a94165c",
   "metadata": {},
   "source": [
    "# bht"
   ]
  },
  {
   "cell_type": "markdown",
   "id": "e5034f48",
   "metadata": {},
   "source": [
    "Lastly, let's handle the data from the breath-holding task."
   ]
  },
  {
   "cell_type": "code",
   "execution_count": null,
   "id": "a9f8b2ea",
   "metadata": {},
   "outputs": [],
   "source": [
    "samples, events, messages = edf.pread(str(DATA_PATH / et_session.bht_edf.values[0]), trial_marker=b\"\")\n",
    "BhtSession4 = EyeTrackingRun(\n",
    "    session=int(session),\n",
    "    task_name='bht',\n",
    "    participant=int(participant),\n",
    "    samples=samples,\n",
    "    events=events,\n",
    "    messages=messages,\n",
    "    message_first_trigger='Hello',\n",
    "    screen_resolution=screen_resolution\n",
    ")"
   ]
  },
  {
   "cell_type": "code",
   "execution_count": null,
   "id": "ef2055ef",
   "metadata": {},
   "outputs": [],
   "source": [
    "BhtSession4.plot_pupil_size()"
   ]
  },
  {
   "cell_type": "code",
   "execution_count": null,
   "id": "33f99b68",
   "metadata": {},
   "outputs": [],
   "source": [
    "BhtSession4.plot_delta()"
   ]
  },
  {
   "cell_type": "code",
   "execution_count": null,
   "id": "3e794323",
   "metadata": {},
   "outputs": [],
   "source": [
    "BhtSession4.plot_coordinates_ts()"
   ]
  },
  {
   "cell_type": "code",
   "execution_count": null,
   "id": "fdbae44f",
   "metadata": {},
   "outputs": [],
   "source": [
    "BhtSession4.plot_heatmap_coordinate_density()"
   ]
  },
  {
   "cell_type": "markdown",
   "id": "c7ce5e57",
   "metadata": {},
   "source": [
    "Let's save both the data and metadata."
   ]
  },
  {
   "cell_type": "code",
   "execution_count": null,
   "id": "f8e577b9",
   "metadata": {},
   "outputs": [],
   "source": [
    "BhtSession4.save_and_process_samples(BIDS_PATH,include_events=True)"
   ]
  },
  {
   "cell_type": "code",
   "execution_count": null,
   "id": "fdb5b443",
   "metadata": {},
   "outputs": [],
   "source": [
    "BhtSession4.create_info_json(BIDS_PATH,\"info_ET.json\")"
   ]
  },
  {
   "cell_type": "code",
   "execution_count": null,
   "id": "9c0e0102",
   "metadata": {},
   "outputs": [],
   "source": []
  }
 ],
 "metadata": {
  "kernelspec": {
   "display_name": "Python (pyyedf)",
   "language": "python",
   "name": "pyyedf"
  },
  "language_info": {
   "codemirror_mode": {
    "name": "ipython",
    "version": 3
   },
   "file_extension": ".py",
   "mimetype": "text/x-python",
   "name": "python",
   "nbconvert_exporter": "python",
   "pygments_lexer": "ipython3",
   "version": "3.6.15"
  }
 },
 "nbformat": 4,
 "nbformat_minor": 5
}
